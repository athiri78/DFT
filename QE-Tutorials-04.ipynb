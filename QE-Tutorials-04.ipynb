{
 "cells": [
  {
   "cell_type": "markdown",
   "metadata": {},
   "source": [
    "# # Tutorials-01/ How do I use these QE tutorials in Jupyter Notebook?!\n",
    "\n",
    "\n",
    "\n",
    "***"
   ]
  },
  {
   "cell_type": "markdown",
   "metadata": {},
   "source": [
    "## Description:\n",
    "<a id=\"Sec1\"></a>\n",
    "This script sets up a non-self-consistent field (NSCF) calculation for computing the Density of States (DOS) of a silicon crystal. The calculation uses a 6x6x6 k-point grid for sampling the Brillouin zone, a Gaussian smearing method for partial occupancies, and an energy cutoff of 40 Ry for the wavefunction."
   ]
  },
  {
   "cell_type": "code",
   "execution_count": null,
   "metadata": {},
   "outputs": [],
   "source": [
    "##  Step-by-Step for NSCF Calculation Input File Preparation:"
   ]
  },
  {
   "cell_type": "code",
   "execution_count": null,
   "metadata": {},
   "outputs": [],
   "source": [
    "Prepare the nscf Input File:\n",
    "Modify the &system card in the input file to include the occupations parameter as tetrahedra (a suitable method for DOS calculations).\n",
    "Update the k-point grid to a 12 × 12 × 12 grid using the automatic option for better sampling of the Brillouin zone.\n",
    "Add nosym = .TRUE. to avoid the generation of additional k-points in low symmetry cases.\n",
    "Ensure Consistency with Previous SCF Calculation:\n",
    "The outdir and prefix parameters must remain the same as in the previous SCF step, as some inputs and outputs from the SCF calculation are required for the NSCF calculation.\n",
    "Specify Larger Number of Bands (nbnd):\n",
    "To account for unoccupied bands, specify a larger number for the nbnd parameter.\n",
    "The number of occupied bands can be found in the SCF output as the number of Kohn-Sham states."
   ]
  },
  {
   "cell_type": "code",
   "execution_count": 4,
   "metadata": {
    "scrolled": true
   },
   "outputs": [
    {
     "name": "stdout",
     "output_type": "stream",
     "text": [
      "Overwriting nscf_si.in\n"
     ]
    }
   ],
   "source": [
    "%%writefile nscf_si.in\n",
    "######################################\n",
    "&control\n",
    "    calculation = 'nscf'\n",
    "    prefix = 'silicon_dos'\n",
    "    outdir = './tmp/'\n",
    "    pseudo_dir = './pseudos/'\n",
    "    tprnfor = .true.\n",
    "    tstress = .true.\n",
    "/\n",
    "\n",
    "&system\n",
    "    ibrav = 2\n",
    "    celldm(1) = 14\n",
    "    nat = 2\n",
    "    ntyp = 1\n",
    "    ecutwfc = 40\n",
    "    ecutrho = 400\n",
    "# Method for DOS calculation\n",
    "    occupations = 'tetrahedra'           \n",
    "    smearing = 'gaussian'\n",
    "    degauss = 0.02\n",
    "    nbnd = 200                          ! Specify a larger number of bands for unoccupied states\n",
    "    nosym = .TRUE.                       ! Avoid generation of additional k-points in low symmetry cases\n",
    "/\n",
    "\n",
    "&electrons\n",
    "    conv_thr = 1e-8\n",
    "    mixing_beta = 0.7\n",
    "    diagonalization = 'david'\n",
    "/\n",
    "\n",
    "&ions\n",
    "    ion_dynamics = 'none'\n",
    "/\n",
    "\n",
    "&cell\n",
    "    cell_dofree = 'none'\n",
    "/\n",
    "\n",
    "ATOMIC_SPECIES\n",
    "  Si  28.0855  Si.pz-vbc.UPF\n",
    "\n",
    "ATOMIC_POSITIONS (alat)\n",
    "  Si  0.00  0.00  0.00\n",
    "  Si  0.25  0.25  0.25\n",
    "\n",
    "K_POINTS (automatic)\n",
    "  12 12 12 1 1 1                         ! 12x12x12 k-point grid\n",
    "# End of Script\n"
   ]
  },
  {
   "cell_type": "markdown",
   "metadata": {},
   "source": [
    "***\n",
    "## Step 2: Run in QE \n"
   ]
  },
  {
   "cell_type": "code",
   "execution_count": 6,
   "metadata": {},
   "outputs": [
    {
     "name": "stderr",
     "output_type": "stream",
     "text": [
      "Le fichier spécifié est introuvable.\n"
     ]
    }
   ],
   "source": [
    "## Run pw.x in non-self consistent mode for silicon\n",
    "!pw.x < pw.nscf.silicon_dos.in > pw.nscf.silicon_dos.out"
   ]
  },
  {
   "cell_type": "code",
   "execution_count": null,
   "metadata": {},
   "outputs": [],
   "source": [
    "he DOS input file as follows"
   ]
  },
  {
   "cell_type": "code",
   "execution_count": 8,
   "metadata": {},
   "outputs": [
    {
     "ename": "SyntaxError",
     "evalue": "invalid syntax (4050765821.py, line 1)",
     "output_type": "error",
     "traceback": [
      "\u001b[1;36m  Cell \u001b[1;32mIn[8], line 1\u001b[1;36m\u001b[0m\n\u001b[1;33m    &DOS\u001b[0m\n\u001b[1;37m    ^\u001b[0m\n\u001b[1;31mSyntaxError\u001b[0m\u001b[1;31m:\u001b[0m invalid syntax\n"
     ]
    }
   ],
   "source": [
    "&DOS\n",
    "  prefix='silicon',\n",
    "  outdir='./tmp/',\n",
    "  fildos='si_dos.dat',\n",
    "  emin=-9.0,\n",
    "  emax=16.0\n",
    "/"
   ]
  },
  {
   "cell_type": "code",
   "execution_count": null,
   "metadata": {},
   "outputs": [],
   "source": [
    "## Run Density of States \n",
    "!pw.x < pw.scf.silicon_dos.in > pw.scf.silicon_dos.out"
   ]
  },
  {
   "cell_type": "code",
   "execution_count": null,
   "metadata": {},
   "outputs": [],
   "source": [
    "The DOS data in the si_dos.dat file that we specified in our input file"
   ]
  },
  {
   "cell_type": "code",
   "execution_count": null,
   "metadata": {},
   "outputs": [],
   "source": [
    "dos.x < pp.dos.silicon.in > pp.dos.silicon.out"
   ]
  },
  {
   "cell_type": "code",
   "execution_count": null,
   "metadata": {},
   "outputs": [],
   "source": [
    "We can plot the DOS:"
   ]
  },
  {
   "cell_type": "code",
   "execution_count": null,
   "metadata": {},
   "outputs": [],
   "source": [
    "import matplotlib.pyplot as plt\n",
    "from matplotlib import rcParamsDefault\n",
    "import numpy as np\n",
    "%matplotlib inline\n",
    "\n",
    "# load data\n",
    "energy, dos, idos = np.loadtxt('../src/silicon/si_dos.dat', unpack=True)\n",
    "\n",
    "# make plot\n",
    "plt.figure(figsize = (12, 6))\n",
    "plt.plot(energy, dos, linewidth=0.75, color='red')\n",
    "plt.yticks([])\n",
    "plt.xlabel('Energy (eV)')\n",
    "plt.ylabel('DOS')\n",
    "plt.axvline(x=6.642, linewidth=0.5, color='k', linestyle=(0, (8, 10)))\n",
    "plt.xlim(-6, 16)\n",
    "plt.ylim(0, )\n",
    "plt.fill_between(energy, 0, dos, where=(energy < 6.642), facecolor='red', alpha=0.25)\n",
    "plt.text(6, 1.7, 'Fermi energy', fontsize= med, rotation=90)\n",
    "plt.show()"
   ]
  },
  {
   "cell_type": "code",
   "execution_count": 10,
   "metadata": {},
   "outputs": [
    {
     "ename": "SyntaxError",
     "evalue": "invalid syntax (694368348.py, line 2)",
     "output_type": "error",
     "traceback": [
      "\u001b[1;36m  Cell \u001b[1;32mIn[10], line 2\u001b[1;36m\u001b[0m\n\u001b[1;33m    For a set of calculation, we must keep the prefix same. For example, the nscf or\u001b[0m\n\u001b[1;37m        ^\u001b[0m\n\u001b[1;31mSyntaxError\u001b[0m\u001b[1;31m:\u001b[0m invalid syntax\n"
     ]
    }
   ],
   "source": [
    "### Important\n",
    "For a set of calculation, we must keep the prefix same. For example, the nscf or \n",
    "bands calculation uses the wavefunction calculated by the scf calculation.\n",
    "When performing different calculations, for example you change a parameter and want to see the changes, you must use different output folder or\n",
    "unique prefix for different calculations so that the outputs do not get mixed."
   ]
  },
  {
   "cell_type": "markdown",
   "metadata": {},
   "source": [
    "***\n",
    "### EXERCISE \n",
    "<br>\n",
    "Part 1: Understanding the Script\n",
    "1- What is the purpose of the occupations = 'tetrahedra' parameter in the &system section?\n",
    "<br> \n",
    "2- What effect does the nosym = .TRUE. option have in the calculation?\n",
    "  <br>\n",
    "3- What is the significance of the nbnd parameter, and why is it set to a larger value (e.g., 200) for the NSCF calculation?\n",
    "<br>\n",
    "Part 1 : Modify the Number of Bands (nbnd)\n",
    "<br>\n",
    "4- Set the nbnd parameter to 300 to ensure that enough bands are considered, especially for higher-lying unoccupied states.\n",
    "How do you determine the appropriate value for nbnd?\n"
   ]
  },
  {
   "cell_type": "markdown",
   "metadata": {},
   "source": [
    "***\n",
    "## Tutorial Links\n",
    "\n",
    "* [Click here to open Tutorial 1](LAMMPS-Tutorials-01.ipynb)\n",
    "* [Click here to open the next tutorial](LAMMPS-Tutorials-03.ipynb)"
   ]
  },
  {
   "cell_type": "markdown",
   "metadata": {},
   "source": [
    "***\n",
    "## References \n",
    "\n",
    "1. S. Plimpton, \"Fast Parallel Algorithms for Short-Range Molecular Dynamics,\" J. Comp. Phys., 117, 1-19 (1995)."
   ]
  }
 ],
 "metadata": {
  "kernelspec": {
   "display_name": "Python 3 (ipykernel)",
   "language": "python",
   "name": "python3"
  },
  "language_info": {
   "codemirror_mode": {
    "name": "ipython",
    "version": 3
   },
   "file_extension": ".py",
   "mimetype": "text/x-python",
   "name": "python",
   "nbconvert_exporter": "python",
   "pygments_lexer": "ipython3",
   "version": "3.12.7"
  }
 },
 "nbformat": 4,
 "nbformat_minor": 4
}
