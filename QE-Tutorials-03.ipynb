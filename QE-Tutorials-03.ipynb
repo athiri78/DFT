{
 "cells": [
  {
   "cell_type": "markdown",
   "metadata": {},
   "source": [
    "# # Tutorials-03/ How do I use these QE tutorials in Jupyter Notebook?!\n",
    "\n",
    "Structure optimization\n",
    "\n",
    "***"
   ]
  },
  {
   "cell_type": "markdown",
   "metadata": {},
   "source": [
    "## Description:\n",
    "<a id=\"Sec1\"></a>\n",
    "*vc-relax calculation\n",
    "<br>\n",
    "The script is set up for the optimization of the lattice parameters and atomic positions of a silicon crystal structure, using the vc-relax calculation type. This type of calculation allows for both atomic forces and cell parameters to be relaxed to minimize the total energy of the system..\n",
    "<br>"
   ]
  },
  {
   "cell_type": "code",
   "execution_count": 5,
   "metadata": {
    "scrolled": true
   },
   "outputs": [
    {
     "name": "stdout",
     "output_type": "stream",
     "text": [
      "Writing scf.vc_relax_si.in\n"
     ]
    }
   ],
   "source": [
    "%%writefile scf.vc_relax_si.in\n",
    "######################################\n",
    "\n",
    "  &control\n",
    "    calculation = 'vc-relax'\n",
    "    prefix = 'silicon'\n",
    "    outdir = './tmp/'\n",
    "    pseudo_dir = './pseudos/'\n",
    "    etot_conv_thr = 1e-5\n",
    "    forc_conv_thr = 1e-4\n",
    "/\n",
    "\n",
    "&system\n",
    "    ibrav=2, celldm(1) =14,\n",
    "    nat=2, ntyp=1,\n",
    "    ecutwfc=30\n",
    "/\n",
    "\n",
    "&electrons\n",
    "    conv_thr=1e-8\n",
    "/\n",
    "\n",
    "&ions\n",
    "/\n",
    "\n",
    "&cell\n",
    "    cell_dofree='ibrav'\n",
    "/\n",
    "\n",
    "ATOMIC_SPECIES\n",
    "  Si  28.0855  Si.pz-vbc.UPF\n",
    "\n",
    "ATOMIC_POSITIONS (alat)\n",
    "  Si 0.00 0.00 0.00 0 0 0\n",
    "  Si 0.25 0.25 0.25 0 0 0\n",
    "\n",
    "K_POINTS (automatic)\n",
    "  6 6 6 1 1 1\n",
    "\n",
    "\n",
    "\n",
    "# End of Script\n"
   ]
  },
  {
   "cell_type": "code",
   "execution_count": 13,
   "metadata": {},
   "outputs": [
    {
     "ename": "SyntaxError",
     "evalue": "unterminated string literal (detected at line 26) (1645900409.py, line 26)",
     "output_type": "error",
     "traceback": [
      "\u001b[1;36m  Cell \u001b[1;32mIn[13], line 26\u001b[1;36m\u001b[0m\n\u001b[1;33m    cell_dofree = 'ibrav' means the cell's shape and volume will relax according to the lattice symmetry (FCC).\u001b[0m\n\u001b[1;37m                                        ^\u001b[0m\n\u001b[1;31mSyntaxError\u001b[0m\u001b[1;31m:\u001b[0m unterminated string literal (detected at line 26)\n"
     ]
    }
   ],
   "source": [
    "Detailed Description of Each Section:\n",
    "&control:\n",
    "Defines the general settings for the calculation.\n",
    "calculation = 'vc-relax' indicates that both atomic positions and unit cell parameters are relaxed.\n",
    "outdir and pseudo_dir specify directories for temporary files and pseudopotentials.\n",
    "etot_conv_thr and forc_conv_thr are thresholds for energy and force convergence, respectively.\n",
    "&system:\n",
    "\n",
    "Specifies the physical system being simulated.\n",
    "ibrav = 2 sets the Bravais lattice type to FCC.\n",
    "celldm(1) = 14 defines the lattice constant of the silicon unit cell.\n",
    "nat = 2 specifies the number of atoms in the unit cell (for silicon, there are 2 atoms per unit cell in the FCC structure).\n",
    "ntyp = 1 indicates one type of atom (silicon) is present.\n",
    "ecutwfc = 30 sets the energy cutoff for the plane-wave basis.\n",
    "&electrons:\n",
    "\n",
    "Specifies the convergence criterion for the electronic degrees of freedom.\n",
    "conv_thr = 1e-8 ensures the electronic self-consistency threshold is met (change in charge density < 1e-8).\n",
    "&ions:\n",
    "\n",
    "No specific settings for ion dynamics are provided, meaning the default behavior for ion relaxation will be used.\n",
    "&cell:\n",
    "\n",
    "Allows the cell parameters to vary freely during the relaxation according to the FCC lattice symmetry.\n",
    "cell_dofree = 'ibrav'\n",
    "                                                                                \n",
    "#means the cell's shape and volume will relax according to the lattice symmetry (FCC).\n",
    "ATOMIC_SPECIES:\n",
    "\n",
    "Specifies the atomic species and the pseudopotential to be used.\n",
    "Si 28.0855 Si.pz-vbc.UPF defines the silicon atom with its mass and links to the pseudopotential file for silicon.\n",
    "ATOMIC_POSITIONS (alat):\n",
    "\n",
    "Defines the positions of the atoms in fractional coordinates within the unit cell.\n",
    "First Si atom is at the origin (0,0,0).\n",
    "Second Si atom is positioned at (0.25, 0.25, 0.25), consistent with the FCC arrangement.\n",
    "K_POINTS (automatic):\n",
    "\n",
    "Defines the k-point grid for sampling the Brillouin zone.\n",
    "6 6 6 1 1 1 means a 6x6x6 grid of k-points with no offset (indicated by the last three numbers 1 1 1)."
   ]
  },
  {
   "cell_type": "markdown",
   "metadata": {},
   "source": [
    "***\n",
    "## Step 2: Run in QE \n"
   ]
  },
  {
   "cell_type": "code",
   "execution_count": 7,
   "metadata": {},
   "outputs": [
    {
     "name": "stderr",
     "output_type": "stream",
     "text": [
      "'pw.x' n’est pas reconnu en tant que commande interne\n",
      "ou externe, un programme exécutable ou un fichier de commandes.\n"
     ]
    }
   ],
   "source": [
    "### To run the above script:\n",
    "\n",
    "!pw.x -inp vc_relax_si.in > vc_relax_si.out"
   ]
  },
  {
   "cell_type": "code",
   "execution_count": 8,
   "metadata": {},
   "outputs": [
    {
     "name": "stderr",
     "output_type": "stream",
     "text": [
      "'mpirun' n’est pas reconnu en tant que commande interne\n",
      "ou externe, un programme exécutable ou un fichier de commandes.\n"
     ]
    }
   ],
   "source": [
    "#NThis produces following output (see the si_relax.out for more details, look for \"Final enthalpy\"):"
   ]
  },
  {
   "cell_type": "code",
   "execution_count": 9,
   "metadata": {},
   "outputs": [
    {
     "ename": "SyntaxError",
     "evalue": "invalid syntax (3742039910.py, line 1)",
     "output_type": "error",
     "traceback": [
      "\u001b[1;36m  Cell \u001b[1;32mIn[9], line 1\u001b[1;36m\u001b[0m\n\u001b[1;33m    Final enthalpy =     -15.8536258868 Ry\u001b[0m\n\u001b[1;37m          ^\u001b[0m\n\u001b[1;31mSyntaxError\u001b[0m\u001b[1;31m:\u001b[0m invalid syntax\n"
     ]
    }
   ],
   "source": [
    "     Final enthalpy =     -15.8536258868 Ry\n",
    "Begin final coordinates\n",
    "     new unit-cell volume =    265.89380 a.u.^3 (    39.40140 Ang^3 )\n",
    "     density =      2.36728 g/cm^3\n",
    "\n",
    "CELL_PARAMETERS (alat= 14.00000000)\n",
    "  -0.364556379   0.000000000   0.364556379\n",
    "   0.000000000   0.364556379   0.364556379\n",
    "  -0.364556379   0.364556379   0.000000000\n",
    "\n",
    "ATOMIC_POSITIONS (alat)\n",
    "Si            0.0000000000        0.0000000000        0.0000000000    0   0   0\n",
    "Si            0.1822781896        0.1822781896        0.1822781896    0   0   0\n",
    "End final coordinates\n"
   ]
  },
  {
   "cell_type": "code",
   "execution_count": 11,
   "metadata": {},
   "outputs": [
    {
     "ename": "SyntaxError",
     "evalue": "invalid syntax (2009718443.py, line 1)",
     "output_type": "error",
     "traceback": [
      "\u001b[1;36m  Cell \u001b[1;32mIn[11], line 1\u001b[1;36m\u001b[0m\n\u001b[1;33m    Lattice constant = 0.364556379 * 14 / 0.5 = 10.2076 Bohr.\u001b[0m\n\u001b[1;37m            ^\u001b[0m\n\u001b[1;31mSyntaxError\u001b[0m\u001b[1;31m:\u001b[0m invalid syntax\n"
     ]
    }
   ],
   "source": [
    "Lattice constant = 0.364556379 * 14 / 0.5 = 10.2076 Bohr."
   ]
  },
  {
   "cell_type": "markdown",
   "metadata": {},
   "source": [
    "### exercice \n",
    "\n",
    "\n",
    "The goal of this exercise is to understand the principles of a variable-cell relaxation calculation in Quantum ESPRESSO, which optimizes both atomic positions and unit cell parameters for a silicon (Si) crystal structure. You will learn to modify the script for different parameters and explore how these changes affect the results of the simulation.\n",
    "<br>\n",
    "*Part 1: Script Understanding and Explanation\n",
    "<br>\n",
    "1- What type of calculation is specified in the &control section of the input script?\n",
    "<br>\n",
    "2- What does the ecutwfc parameter represent, and what is its value in the script?\n",
    "<br>\n",
    "3- what does the K_POINTS section define, and what is the k-point grid used in this calculation?\n",
    "<br>\n",
    "*part 2: Modifying the Script\n",
    "<br>\n",
    "4- Modify the script to increase the plane-wave energy cutoff (ecutwfc) from 30 Ry to 40 Ry.\n",
    "Why might you want to increase the energy cutoff?\n",
    "<br>\n"
   ]
  },
  {
   "cell_type": "markdown",
   "metadata": {},
   "source": [
    "***\n",
    "## Tutorial Links\n",
    "\n",
    "* [Click here to open Tutorial 1](LAMMPS-Tutorials-01.ipynb)\n",
    "* [Click here to open the next tutorial](LAMMPS-Tutorials-03.ipynb)"
   ]
  },
  {
   "cell_type": "markdown",
   "metadata": {},
   "source": [
    "***\n",
    "## References \n",
    "\n",
    "1. S. Plimpton, \"Fast Parallel Algorithms for Short-Range Molecular Dynamics,\" J. Comp. Phys., 117, 1-19 (1995)."
   ]
  }
 ],
 "metadata": {
  "kernelspec": {
   "display_name": "Python 3 (ipykernel)",
   "language": "python",
   "name": "python3"
  },
  "language_info": {
   "codemirror_mode": {
    "name": "ipython",
    "version": 3
   },
   "file_extension": ".py",
   "mimetype": "text/x-python",
   "name": "python",
   "nbconvert_exporter": "python",
   "pygments_lexer": "ipython3",
   "version": "3.12.7"
  }
 },
 "nbformat": 4,
 "nbformat_minor": 4
}
