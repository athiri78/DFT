{
 "cells": [
  {
   "cell_type": "markdown",
   "metadata": {},
   "source": [
    "# # Tutorials-01/ How do I use these QE tutorials in Jupyter Notebook?!\n",
    "\n",
    "\n",
    "\n",
    "***"
   ]
  },
  {
   "cell_type": "markdown",
   "metadata": {},
   "source": [
    "## Description:\n",
    "<a id=\"Sec1\"></a>\n",
    "This input file is intended to perform a Self-Consistent Field (SCF) electronic structure calculation for a silicon crystal in a Face-Centered Cubic (FCC) structure. The calculation is based on a Density Functional Theory (DFT) approximation with a pseudopotential for silicon, and it solves the Kohn-Sham equations to obtain the self-consistent electronic density of the system. The results of the calculation will provide information on the energy levels of the bands and the density of states of silicon."
   ]
  },
  {
   "cell_type": "code",
   "execution_count": 3,
   "metadata": {
    "scrolled": true
   },
   "outputs": [
    {
     "name": "stdout",
     "output_type": "stream",
     "text": [
      "Overwriting SCF_si.in\n"
     ]
    }
   ],
   "source": [
    "%%writefile SCF_si.in\n",
    "######################################\n",
    "\n",
    "&CONTROL\n",
    "! we want to perform self consistent field calculation\n",
    "  calculation = 'scf',\n",
    "\n",
    "! prefix is reference to the output files\n",
    "  prefix = 'silicon',\n",
    "\n",
    "! output directory. Note that it is deprecated.\n",
    "  outdir = './tmp/'\n",
    "\n",
    "! directory for the pseudo potential directory\n",
    "  pseudo_dir = '../pseudos/'\n",
    "\n",
    "! verbosity high will give more details on the output file\n",
    "  verbosity = 'high'\n",
    "/\n",
    "\n",
    "&SYSTEM\n",
    "! Bravais lattice index, which is 2 for FCC structure\n",
    "  ibrav =  2,\n",
    "\n",
    "! Lattice constant in BOHR\n",
    "  celldm(1) = 10.26,\n",
    "\n",
    "! number of atoms in an unit cell\n",
    "  nat =  2,\n",
    "\n",
    "! number of different types of atom in the cell\n",
    "  ntyp = 1,\n",
    "\n",
    "! kinetic energy cutoff for wavefunction in Ry\n",
    "  ecutwfc = 30\n",
    "\n",
    "! number of bands to calculate\n",
    "  nbnd = 8\n",
    "/\n",
    "\n",
    "&ELECTRONS\n",
    "! Mixing factor used in the self-consistent method\n",
    "  mixing_beta = 0.6\n",
    "/\n",
    "\n",
    "ATOMIC_SPECIES\n",
    "  Si 28.086 Si.pz-vbc.UPF\n",
    "\n",
    "ATOMIC_POSITIONS (alat)\n",
    "  Si 0.0 0.0 0.0\n",
    "  Si 0.25 0.25 0.25\n",
    "\n",
    "K_POINTS (automatic)\n",
    "  6 6 6 0 0 0\n",
    "# End of Script\n"
   ]
  },
  {
   "cell_type": "markdown",
   "metadata": {},
   "source": [
    "***\n",
    "## Step 2: Run in QE \n"
   ]
  },
  {
   "cell_type": "code",
   "execution_count": 6,
   "metadata": {},
   "outputs": [
    {
     "name": "stderr",
     "output_type": "stream",
     "text": [
      "Le fichier spécifié est introuvable.\n"
     ]
    }
   ],
   "source": [
    "## Run pw.x in self consistent mode for silicon\n",
    "!pw.x < pw.scf.silicon.in > pw.scf.silicon.out"
   ]
  },
  {
   "cell_type": "code",
   "execution_count": 8,
   "metadata": {},
   "outputs": [
    {
     "name": "stderr",
     "output_type": "stream",
     "text": [
      "'mpirun' n’est pas reconnu en tant que commande interne\n",
      "ou externe, un programme exécutable ou un fichier de commandes.\n"
     ]
    }
   ],
   "source": [
    "## Run pw.x in self consistent mode for silicon\n",
    "# For parallel execution\n",
    "!mpirun -np 4 pw.x -inp pw.scf.silicon.in > pw.scf.silicon.out"
   ]
  },
  {
   "cell_type": "markdown",
   "metadata": {},
   "source": [
    "## Now let's look at the output file pw.scf.silicon.out and see how the convergence is reached:\n"
   ]
  },
  {
   "cell_type": "code",
   "execution_count": 13,
   "metadata": {},
   "outputs": [
    {
     "ename": "IndentationError",
     "evalue": "unexpected indent (4263423241.py, line 2)",
     "output_type": "error",
     "traceback": [
      "\u001b[1;36m  Cell \u001b[1;32mIn[13], line 2\u001b[1;36m\u001b[0m\n\u001b[1;33m    *total energy              =     -15.85014573 Ry\u001b[0m\n\u001b[1;37m    ^\u001b[0m\n\u001b[1;31mIndentationError\u001b[0m\u001b[1;31m:\u001b[0m unexpected indent\n"
     ]
    }
   ],
   "source": [
    "!grep -e 'total energy' -e estimate pw.scf.silicon.out\n",
    "     *total energy              =     -15.85014573 Ry\n",
    "     Harris-Foulkes estimate   =     -15.86899637 Ry\n",
    "     estimated scf accuracy    <       0.06093037 Ry\n",
    "     total energy              =     -15.85194177 Ry\n",
    "     Harris-Foulkes estimate   =     -15.85292281 Ry\n",
    "     estimated scf accuracy    <       0.00462014 Ry\n",
    "     total energy              =     -15.85218359 Ry\n",
    "     Harris-Foulkes estimate   =     -15.85220235 Ry\n",
    "     estimated scf accuracy    <       0.00011293 Ry\n",
    "!    total energy              =     -15.85219789 Ry\n",
    "     Harris-Foulkes estimate   =     -15.85219831 Ry\n",
    "     estimated scf accuracy    <       0.00000099 Ry\n",
    "     The total energy is the sum of the following terms:"
   ]
  },
  {
   "cell_type": "code",
   "execution_count": 15,
   "metadata": {},
   "outputs": [
    {
     "ename": "SyntaxError",
     "evalue": "invalid decimal literal (3725116509.py, line 10)",
     "output_type": "error",
     "traceback": [
      "\u001b[1;36m  Cell \u001b[1;32mIn[15], line 10\u001b[1;36m\u001b[0m\n\u001b[1;33m    5- Suggested values for the conv_thr: for energy and eigenvalues (scf calculation) 1.0d-7, for forces (relax calculation) 1.0d-8,\u001b[0m\n\u001b[1;37m                                                                                         ^\u001b[0m\n\u001b[1;31mSyntaxError\u001b[0m\u001b[1;31m:\u001b[0m invalid decimal literal\n"
     ]
    }
   ],
   "source": [
    "\n",
    "### ips on convergence\n",
    "\n",
    "\n",
    "1- Reduce mixing_beta value, especially if there is an oscillation around the convergence energy.\n",
    "2- If it is a metallic system, use smearing and degauss. In this case, the SCF accuracy gradually goes down then suddenly \n",
    "increases (due to slight change in Fermi energy highest occupied/lowest unoccupied \n",
    "levels change).\n",
    "3- Increase energy and charge density cutoffs (make sure they are sufficient).\n",
    "4- Certain pseudo potential files have issues, you may try with pseudo potentials from different libraries.\n",
    "5- Suggested values for the conv_thr: for energy and eigenvalues (scf calculation) 1.0d-7, for forces (relax calculation) 1.0d-8, \n",
    "for stress (vc-relax calculation) 1.0d-9 Ry. \n",
    "6- For certain calculation convergence might be very slow for the first iteration, one can start the calculation with a higher threshold,\n",
    "after few iterations reduce it and restart the calculation.\n"
   ]
  },
  {
   "cell_type": "markdown",
   "metadata": {},
   "source": [
    "***\n",
    "## ips on convergence\n",
    "\n",
    "<br>\n",
    "1- Reduce mixing_beta value, especially if there is an oscillation around the convergence energy.\n",
    "<br>\n",
    "2- If it is a metallic system, use smearing and degauss. In this case, the SCF accuracy gradually goes down then suddenly \n",
    "increases (due to slight change in Fermi energy highest occupied/lowest unoccupied \n",
    "levels change).\n",
    "<br>\n",
    "3- Increase energy and charge density cutoffs (make sure they are sufficient).\n",
    "<br>\n",
    "4- Certain pseudo potential files have issues, you may try with pseudo potentials from different libraries.\n",
    "<br>\n",
    "5- Suggested values for the conv_thr: for energy and eigenvalues (scf calculation) 1.0d-7, for forces (relax calculation) 1.0d-8, \n",
    "for stress (vc-relax calculation) 1.0d-9 Ry. \n",
    "<br>\n",
    "6- For certain calculation convergence might be very slow for the first iteration, one can start the calculation with a higher threshold,\n",
    "after few iterations reduce it and restart the calculation.\n",
    "<br>\n"
   ]
  },
  {
   "cell_type": "markdown",
   "metadata": {},
   "source": [
    "### There are several other important information is printed on the output file. Exchange correlation used in the calculation:\n",
    "\n",
    "Exchange-correlation= SLA  PZ   NOGX NOGC\n",
    "<br>\n",
    "Where SLA → Slater exchange; PZ → Perdew-Zunger parametrization of the LDA; \n",
    "<br>\n",
    "NOGX and NOGC indicates that density gradients are not taken into account."
   ]
  },
  {
   "cell_type": "markdown",
   "metadata": {},
   "source": [
    "***\n",
    "### EXERCICE \n",
    "<br>\n",
    "You have an input file for a self-consistent field (SCF) calculation of the electronic structure of an aluminum (Al) crystal \n",
    "using Density Functional Theory (DFT) with Quantum ESPRESSO. This file uses a SCF calculation to obtain the electronic density \n",
    "and energy levels of the system. You are required to answer several questions based on this input script.\n",
    "<br> \n",
    "&CONTROL\n",
    "! we want to perform self consistent field calculation\n",
    "  calculation = 'scf',\n",
    "\n",
    "! prefix is reference to the output files\n",
    "  prefix = 'silicon',\n",
    "\n",
    "! output directory. Note that it is deprecated.\n",
    "  outdir = './tmp/'\n",
    "\n",
    "! directory for the pseudo potential directory\n",
    "  pseudo_dir = '../pseudos/'\n",
    "\n",
    "! verbosity high will give more details on the output file\n",
    "  verbosity = 'high'\n",
    "/\n",
    "&SYSTEM\n",
    " ibrav=  2,\n",
    "  celldm(1)= 7.652,\n",
    "  nat=  1,\n",
    "  ntyp= 1,\n",
    "  ecutwfc = 50,\n",
    "  ecutrho= 500,\n",
    "  occupations= 'smearing',\n",
    "  smearing= 'gaussian',\n",
    "  degauss= 0.01\n",
    "\n",
    "&ELECTRONS\n",
    "! Mixing factor used in the self-consistent method\n",
    "  mixing_beta = 0.6\n",
    "/\n",
    "ATOMIC_SPECIES\n",
    "  Al 26.981539 Al.pbe-n-rrkjus_psl.1.0.0.UPF\n",
    "\n",
    "ATOMIC_POSITIONS (alat)\n",
    "  Al 0.00 0.00 0.00\n",
    "\n",
    "K_POINTS (automatic)\n",
    "  10 10 10 0 0 0\n",
    "  <br>\n",
    "1. Analysis of the Crystal Structure\n",
    "a) What is the crystal structure specified in this input file (use the Bravais index to answer)?\n",
    "b) What is the lattice constant (in Bohr units) specified in this calculation? How does this affect the unit cell size?\n",
    "2. Atoms and Pseudopotentials\n",
    "a) How many aluminum atoms are in the unit cell for this calculation?\n",
    "b) What pseudopotential file is used to model aluminum, and why are pseudopotentials used in DFT calculations?\n",
    "3. Energy Cutoffs\n",
    "a) What are the energy cutoffs for the wavefunctions (ecutwfc) and the charge density (ecutrho) in this calculation?\n",
    "b) Why is the energy cutoff important in DFT calculations, and how does it affect the results?\n",
    "4. Occupation of Electronic States\n",
    "a) What method of occupation of electronic states is used in this calculation?\n",
    "b) Explain the effect of the smearing option and the degauss parameter in this context.\n",
    "5. Mixing Beta and SCF Convergence\n",
    "a) What is the value of the mixing_beta parameter, and what role does it play in the SCF calculation?\n",
    "b) If the value of mixing_beta were too high, what impact would it have on the convergence of the SCF calculation?\n",
    "6. k-Point Mesh\n",
    "a) What is the size of the k-point mesh specified in this calculation?\n",
    "b) Why is it important to choose an appropriate k-point mesh in DFT simulations?\n",
    "7. Output Directory and Deprecation\n",
    "a) What is the output directory specified in the input file?\n",
    "8. SCF Calculation and Electronic Properties\n",
    "a) What electronic properties of aluminum can you obtain by running this SCF calculation?\n",
    "b) If you wanted to modify this script to perform a Density of States (DOS) calculation, what would you change in this input file?\n",
    "\n",
    "<br>\n"
   ]
  },
  {
   "cell_type": "markdown",
   "metadata": {},
   "source": [
    "***\n",
    "## Tutorial Links\n",
    "\n",
    "* [Click here to open Tutorial 1](LAMMPS-Tutorials-01.ipynb)\n",
    "* [Click here to open the next tutorial](LAMMPS-Tutorials-03.ipynb)"
   ]
  },
  {
   "cell_type": "markdown",
   "metadata": {},
   "source": [
    "***\n",
    "## References \n",
    "\n",
    "1. S. Plimpton, \"Fast Parallel Algorithms for Short-Range Molecular Dynamics,\" J. Comp. Phys., 117, 1-19 (1995)."
   ]
  }
 ],
 "metadata": {
  "kernelspec": {
   "display_name": "Python 3 (ipykernel)",
   "language": "python",
   "name": "python3"
  },
  "language_info": {
   "codemirror_mode": {
    "name": "ipython",
    "version": 3
   },
   "file_extension": ".py",
   "mimetype": "text/x-python",
   "name": "python",
   "nbconvert_exporter": "python",
   "pygments_lexer": "ipython3",
   "version": "3.12.7"
  }
 },
 "nbformat": 4,
 "nbformat_minor": 4
}
